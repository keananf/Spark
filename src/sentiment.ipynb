{
 "cells": [
  {
   "cell_type": "code",
   "execution_count": 2,
   "metadata": {},
   "outputs": [],
   "source": [
    "from src.spark import Spark\n",
    "import pandas as pd\n",
    "import src.tweet_volume as funcs\n",
    "import matplotlib.pyplot as plt\n",
    "from pyspark.sql import functions as fs\n",
    "from src.plotting import double_plot\n",
    "from pyspark.ml import PipelineModel\n",
    "from pyspark.ml.classification import LogisticRegressionModel\n",
    "import src.nlp.clean as clean\n",
    "from pyspark.sql.types import StringType, IntegerType, StructField, StructType\n",
    "from src.nlp.sentiment import SentimentAnalyser\n"
   ]
  },
  {
   "cell_type": "code",
   "execution_count": 3,
   "metadata": {},
   "outputs": [],
   "source": [
    "spark = Spark('load', 'local')\n",
    "sess = spark.session()"
   ]
  },
  {
   "cell_type": "code",
   "execution_count": 4,
   "metadata": {},
   "outputs": [
    {
     "data": {
      "text/plain": [
       "u'rt @sisafund an articles is being posted by #sisa #presale #ico #eth #btc #fintech #blockchain '"
      ]
     },
     "execution_count": 4,
     "metadata": {},
     "output_type": "execute_result"
    }
   ],
   "source": [
    "df = funcs.load_dataframe(sess, '/cs/unique/ls99-kf39-cs5052/data/tweets/*.json', funcs.schema)\n",
    "df2 = funcs.parse_timestamp(df)\n"
   ]
  },
  {
   "cell_type": "code",
   "execution_count": 5,
   "metadata": {},
   "outputs": [
    {
     "data": {
      "text/plain": [
       "Row(target=0, text=u'is so sad for my apl friend')"
      ]
     },
     "execution_count": 5,
     "metadata": {},
     "output_type": "execute_result"
    }
   ],
   "source": [
    "sent_schema = StructType([\n",
    "    StructField(\"target\", IntegerType(), True),\n",
    "    StructField(\"text\", StringType(), True)\n",
    "])\n",
    "\n",
    "train_df = sess.read.csv(\"/cs/unique/ls99-kf39-cs5052/train/train.csv\", header=True, schema=sent_schema)\n",
    "\n",
    "train_clean = clean.clean_tweets(train_df, \"text\")\n",
    "train_clean.first()"
   ]
  },
  {
   "cell_type": "code",
   "execution_count": 6,
   "metadata": {},
   "outputs": [
    {
     "name": "stdout",
     "output_type": "stream",
     "text": [
      "Number of tweets in train: 1,434,200\n"
     ]
    }
   ],
   "source": [
    "train, evaluation = train_clean.randomSplit([0.99, 0.1], seed=42)\n",
    "print(\"Number of tweets in train: {:,}\".format(train.count()))"
   ]
  },
  {
   "cell_type": "code",
   "execution_count": 7,
   "metadata": {},
   "outputs": [],
   "source": [
    "pipeline = \"/cs/unique/ls99-kf39-cs5052/models/pipeline\"\n",
    "classifier = \"/cs/unique/ls99-kf39-cs5052/models/linreg\"\n",
    "\n",
    "sentiment_model = SentimentAnalyser()\n",
    "sentiment_model.load(pipeline, classifier)"
   ]
  },
  {
   "cell_type": "code",
   "execution_count": 8,
   "metadata": {},
   "outputs": [
    {
     "name": "stdout",
     "output_type": "stream",
     "text": [
      "RocAuc: 0.8661, Accuracy: 0.7906\n"
     ]
    },
    {
     "name": "stdout",
     "output_type": "stream",
     "text": [
      "Tweets positive: 77,399, negative: 67,016\n"
     ]
    }
   ],
   "source": [
    "pred = sentiment_model.predict(evaluation)\n",
    "sentiment_model.classification_report(pred)\n",
    "\n",
    "pos, neg = sentiment_model.count_sentiments(pred)"
   ]
  },
  {
   "cell_type": "code",
   "execution_count": 10,
   "metadata": {},
   "outputs": [
    {
     "name": "stdout",
     "output_type": "stream",
     "text": [
      "rt @sisafund an articles is being posted by #sisa #presale #ico #eth #btc #fintech #blockchain \n"
     ]
    },
    {
     "name": "stdout",
     "output_type": "stream",
     "text": [
      "rt @sisafund an articles is being posted by #sisa #presale #ico #eth #btc #fintech #blockchain \n"
     ]
    },
    {
     "name": "stdout",
     "output_type": "stream",
     "text": [
      "rt @sisafund an articles is being posted by #sisa #presale #ico #eth #btc #fintech #blockchain \n"
     ]
    },
    {
     "name": "stdout",
     "output_type": "stream",
     "text": [
      "rt @sisafund an articles is being posted by #sisa #presale #ico #eth #btc #fintech #blockchain \n"
     ]
    },
    {
     "name": "stdout",
     "output_type": "stream",
     "text": [
      "rt @sisafund an articles is being posted by #sisa #presale #ico #eth #btc #fintech #blockchain \n"
     ]
    },
    {
     "name": "stdout",
     "output_type": "stream",
     "text": [
      "rt @sisafund an articles is being posted by #sisa #presale #ico #eth #btc #fintech #blockchain \n"
     ]
    },
    {
     "name": "stdout",
     "output_type": "stream",
     "text": [
      "rt @sisafund an articles is being posted by #sisa #presale #ico #eth #btc #fintech #blockchain \n"
     ]
    }
   ],
   "source": [
    "alts = ['ETH', 'BTC', 'XMR', 'DASH', 'LTC', 'ETC', 'BCH']\n",
    "hashes = {\n",
    "        'ETH': ['%ethereum%', '%ether%', '%eth%'],\n",
    "        'BTC': ['%bitcoin%', '%btc%', '%bitcoin%'],\n",
    "        'XMR': [\"%monero%\", \"%xmr%\", \"%monero%\"], \n",
    "        'DASH': [\"%digital cash%\", \"%dash%\", \"%dash%\"], \n",
    "        'LTC': [\"%litecoin%\", \"%ltc%\", \"%litecoin%\"], \n",
    "        'ETC': [\"%ethereum classic%\", \"%etc%\", \"%eth classic%\"], \n",
    "        'BCH': [\"%bitcoincash%\", \"%bch%\", \"%bitcoin cash%\"]\n",
    "    }\n",
    "for alt in alts:\n",
    "    hash = hashes[alt]\n",
    "    coin_df = df2.filter(fs.lower(df['text']).like(hash[0]) | fs.lower(df['text']).like(hash[1]) | fs.lower(df['text']).like(hash[2]))\n",
    "    coin_clean = clean.clean_tweets(coin_df, \"text\")\n",
    "\n",
    "    print(coin_clean.first().text)\n",
    "    \n",
    "    coin_pred = sentiment_model.predict(coin_clean)\n",
    "    pos, neg = sentiment_model.count_sentiments(pred)\n",
    "    \n",
    "    daily_pos = funcs.aggregate_by_day(pos)\n",
    "    daily_neg = funcs.aggregate_by_day(neg)\n",
    "    daily_pos.set_index(\"date\", inplace=True)\n",
    "    daily_neg.set_index(\"date\", inplace=True)\n",
    "    daily_pos.index = pd.to_datetime(daily_pos.index)\n",
    "    daily_neg.index = pd.to_datetime(daily_neg.index)\n",
    "    \n",
    "    daily_sent = pd.DataFrame(data={'pos':daily_pos.count, 'neg':daily_neg.count}, index=daily_pos.index)\n",
    "    daily_sent['sentiment'] = (daily_sent.pos - daily_sent.neg) / float(daily_sent.pos + daily_sent.neg)\n",
    "    \n",
    "    #### Fetch coin price data, combine with sentiment score and plot.\n",
    "    "
   ]
  },
  {
   "cell_type": "code",
   "execution_count": null,
   "metadata": {},
   "outputs": [],
   "source": []
  }
 ],
 "metadata": {
  "kernelspec": {
   "display_name": "venv",
   "language": "python",
   "name": "venv"
  },
  "language_info": {
   "codemirror_mode": {
    "name": "ipython",
    "version": 2
   },
   "file_extension": ".py",
   "mimetype": "text/x-python",
   "name": "python",
   "nbconvert_exporter": "python",
   "pygments_lexer": "ipython2",
   "version": "2.7.14"
  }
 },
 "nbformat": 4,
 "nbformat_minor": 1
}
