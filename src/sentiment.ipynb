{
 "cells": [
  {
   "cell_type": "code",
   "execution_count": 1,
   "metadata": {},
   "outputs": [],
   "source": [
    "from src.spark import Spark\n",
    "import src.tweet_volume as funcs\n",
    "import matplotlib.pyplot as plt\n",
    "from pyspark.sql import functions as fs\n",
    "from src.plotting import double_plot\n",
    "from pyspark.ml import PipelineModel\n",
    "from pyspark.ml.classification import LogisticRegressionModel\n",
    "import src.nlp.clean as clean\n",
    "from pyspark.sql.types import StringType, IntegerType, StructField, StructType\n",
    "from src.nlp.sentiment import SentimentAnalyser\n"
   ]
  },
  {
   "cell_type": "code",
   "execution_count": 2,
   "metadata": {},
   "outputs": [],
   "source": [
    "spark = Spark('load', 'local')\n",
    "sess = spark.session()"
   ]
  },
  {
   "cell_type": "code",
   "execution_count": 3,
   "metadata": {},
   "outputs": [
    {
     "data": {
      "text/plain": [
       "u'rt @sisafund an articles is being posted by #sisa #presale #ico #eth #btc #fintech #blockchain '"
      ]
     },
     "execution_count": 3,
     "metadata": {},
     "output_type": "execute_result"
    }
   ],
   "source": [
    "df = funcs.load_dataframe(sess, '/cs/home/ls99/PycharmProjects/Spark/data/*.json', funcs.schema)\n",
    "df2 = funcs.parse_timestamp(df)\n",
    "eth_df = df2.filter(fs.lower(df['text']).like(\"%ether%\") | fs.lower(df['text']).like(\"%eth%\") | fs.lower(df['text']).like(\"%ethereum%\"))\n",
    "eth_clean = clean.clean_tweets(eth_df, \"text\")\n",
    "\n",
    "eth_clean.first().text"
   ]
  },
  {
   "cell_type": "code",
   "execution_count": null,
   "metadata": {},
   "outputs": [],
   "source": [
    "sent_schema = StructType([\n",
    "    StructField(\"target\", IntegerType(), True),\n",
    "    StructField(\"text\", StringType(), True)\n",
    "])\n",
    "\n",
    "train_df = sess.read.csv(\"/cs/unique/ls99-kf39-cs5052/train/train.csv\", header=True, schema=sent_schema)\n",
    "\n",
    "train_clean = clean.clean_tweets(train_df, \"text\")\n",
    "train_clean.first()"
   ]
  },
  {
   "cell_type": "code",
   "execution_count": 16,
   "metadata": {},
   "outputs": [
    {
     "name": "stdout",
     "output_type": "stream",
     "text": [
      "Number of tweets in train: 1,434,200\n"
     ]
    }
   ],
   "source": [
    "train, eval = train_clean.randomSplit([0.99, 0.1], seed=42)\n",
    "print(\"Number of tweets in train: {:,}\".format(train.count()))"
   ]
  },
  {
   "cell_type": "code",
   "execution_count": 4,
   "metadata": {},
   "outputs": [],
   "source": [
    "pipeline = \"/cs/unique/ls99-kf39-cs5052/models/pipeline\"\n",
    "classifier = \"/cs/unique/ls99-kf39-cs5052/models/linreg\"\n",
    "\n",
    "sentiment_model = SentimentAnalyser()\n",
    "sentiment_model.load(pipeline, classifier)"
   ]
  },
  {
   "cell_type": "code",
   "execution_count": 5,
   "metadata": {},
   "outputs": [
    {
     "name": "stdout",
     "output_type": "stream",
     "text": [
      "Ether tweets positive: 13,369, negative: 1,022\n"
     ]
    }
   ],
   "source": [
    "eth_pred = sentiment_model.predict(eth_clean)\n",
    "\n",
    "positive = eth_pred.filter(eth_pred.prediction == sentiment_model.positive).count()\n",
    "negative = eth_pred.filter(eth_pred.prediction == sentiment_model.negative).count()\n",
    "\n",
    "print(\"Ether tweets positive: {:,}, negative: {:,}\".format(positive, negative))"
   ]
  },
  {
   "cell_type": "code",
   "execution_count": null,
   "metadata": {},
   "outputs": [],
   "source": []
  }
 ],
 "metadata": {
  "kernelspec": {
   "display_name": "venv",
   "language": "python",
   "name": "venv"
  },
  "language_info": {
   "codemirror_mode": {
    "name": "ipython",
    "version": 2
   },
   "file_extension": ".py",
   "mimetype": "text/x-python",
   "name": "python",
   "nbconvert_exporter": "python",
   "pygments_lexer": "ipython2",
   "version": "2.7.14"
  }
 },
 "nbformat": 4,
 "nbformat_minor": 1
}
